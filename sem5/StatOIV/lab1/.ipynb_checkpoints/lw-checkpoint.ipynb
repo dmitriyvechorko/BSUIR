{
 "cells": [
  {
   "cell_type": "code",
   "id": "initial_id",
   "metadata": {
    "collapsed": true,
    "ExecuteTime": {
     "end_time": "2024-09-19T06:50:44.193668Z",
     "start_time": "2024-09-19T06:50:43.246950Z"
    }
   },
   "source": [
    "import pandas as pd\n",
    "\n",
    "df = pd.read_csv('job_postings.csv')\n",
    "\n",
    "df = df.apply(pd.to_numeric, errors='coerce')\n",
    "\n",
    "df.fillna(0, inplace=True)\n",
    "\n",
    "selected_columns = ['job_id', 'max_salary', 'med_salary', 'min_salary']  # Замените на свои названия колонок\n",
    "\n",
    "df = df[selected_columns]\n",
    "\n",
    "df.reset_index(drop=True, inplace=True)\n",
    "\n",
    "df.to_csv('output.csv', index=False)\n",
    "\n"
   ],
   "outputs": [],
   "execution_count": 2
  }
 ],
 "metadata": {
  "kernelspec": {
   "display_name": "Python 3",
   "language": "python",
   "name": "python3"
  },
  "language_info": {
   "codemirror_mode": {
    "name": "ipython",
    "version": 2
   },
   "file_extension": ".py",
   "mimetype": "text/x-python",
   "name": "python",
   "nbconvert_exporter": "python",
   "pygments_lexer": "ipython2",
   "version": "2.7.6"
  }
 },
 "nbformat": 4,
 "nbformat_minor": 5
}
