{
 "cells": [
  {
   "cell_type": "markdown",
   "metadata": {},
   "source": [
    "Подключим библиотеки:"
   ]
  },
  {
   "cell_type": "code",
   "metadata": {
    "ExecuteTime": {
     "end_time": "2024-12-12T10:13:59.390954Z",
     "start_time": "2024-12-12T10:13:59.376441Z"
    }
   },
   "source": [
    "import numpy as np\n",
    "import pandas as pd\n",
    "import matplotlib.pyplot as plt\n",
    "import seaborn as sns\n",
    "\n",
    "from sklearn.cluster import KMeans"
   ],
   "outputs": [],
   "execution_count": 9
  },
  {
   "cell_type": "markdown",
   "metadata": {},
   "source": "Откроeм и исправим набор данных:"
  },
  {
   "cell_type": "code",
   "metadata": {
    "ExecuteTime": {
     "end_time": "2024-12-12T10:13:59.416159Z",
     "start_time": "2024-12-12T10:13:59.397889Z"
    }
   },
   "source": [
    "PATH = (\"Mall_Customers.csv\")\n",
    "dataset = pd.read_csv(PATH)\n",
    "dataset['Gender'] = dataset['Gender'].map({'Male':0, 'Female':1})\n"
   ],
   "outputs": [],
   "execution_count": 10
  },
  {
   "cell_type": "markdown",
   "metadata": {},
   "source": [
    "Для построение модели будет построен график зависимости инерции от количества кластеров:"
   ]
  },
  {
   "cell_type": "code",
   "metadata": {
    "ExecuteTime": {
     "end_time": "2024-12-12T10:13:59.698252Z",
     "start_time": "2024-12-12T10:13:59.436564Z"
    }
   },
   "source": [
    "inertia = []\n",
    "\n",
    "for i in range(1, 11):\n",
    "    k_means = KMeans(n_clusters=i, init=\"k-means++\")\n",
    "    k_means.fit(dataset)\n",
    "    inertia.append(k_means.inertia_)\n",
    "\n",
    "sns.set_style('darkgrid')\n",
    "sns.scatterplot(\n",
    "    x = [x for x in range(1, 11)],\n",
    "    y = inertia\n",
    ")\n",
    "\n",
    "plt.title(\"График зависимости\")\n",
    "plt.xlabel(\"Количество кластеров\")\n",
    "plt.ylabel(\"Внутри-кластерная сумма расстояний\")"
   ],
   "outputs": [
    {
     "data": {
      "text/plain": [
       "Text(0, 0.5, 'Внутри-кластерная сумма расстояний')"
      ]
     },
     "execution_count": 11,
     "metadata": {},
     "output_type": "execute_result"
    },
    {
     "data": {
      "text/plain": [
       "<Figure size 640x480 with 1 Axes>"
      ],
      "image/png": "[encoded data removed]"
     },
     "metadata": {},
     "output_type": "display_data"
    }
   ],
   "execution_count": 11
  },
  {
   "cell_type": "markdown",
   "metadata": {},
   "source": "Оптимальное количество кластеров, на основе графика - 4. Построим модель, делящую данные на 2 кластера:"
  },
  {
   "cell_type": "code",
   "metadata": {
    "ExecuteTime": {
     "end_time": "2024-12-12T10:13:59.727073Z",
     "start_time": "2024-12-12T10:13:59.709178Z"
    }
   },
   "source": [
    "CLUSTERS = 4\n",
    "\n",
    "model = KMeans(\n",
    "    n_clusters=CLUSTERS\n",
    ")\n",
    "\n",
    "model.fit(dataset)\n",
    "\n",
    "clusters = pd.DataFrame(\n",
    "    columns=dataset.columns,\n",
    "    data=model.cluster_centers_\n",
    ")\n",
    "\n",
    "clusters[\"Amount\"] = np.unique(\n",
    "    model.labels_,\n",
    "    return_counts=True\n",
    ")[1]\n",
    "\n",
    "clusters"
   ],
   "outputs": [
    {
     "data": {
      "text/plain": [
       "   CustomerID    Gender        Age  Annual Income (k$)  \\\n",
       "0   31.016393  0.606557  36.918033           30.360656   \n",
       "1  162.000000  0.538462  32.692308           86.538462   \n",
       "2   93.531250  0.578125  43.343750           58.125000   \n",
       "3  164.000000  0.472222  40.805556           87.916667   \n",
       "\n",
       "   Spending Score (1-100)  Amount  \n",
       "0               49.737705      61  \n",
       "1               82.128205      39  \n",
       "2               49.359375      64  \n",
       "3               17.888889      36  "
      ],
      "text/html": [
       "<div>\n",
       "<style scoped>\n",
       "    .dataframe tbody tr th:only-of-type {\n",
       "        vertical-align: middle;\n",
       "    }\n",
       "\n",
       "    .dataframe tbody tr th {\n",
       "        vertical-align: top;\n",
       "    }\n",
       "\n",
       "    .dataframe thead th {\n",
       "        text-align: right;\n",
       "    }\n",
       "</style>\n",
       "<table border=\"1\" class=\"dataframe\">\n",
       "  <thead>\n",
       "    <tr style=\"text-align: right;\">\n",
       "      <th></th>\n",
       "      <th>CustomerID</th>\n",
       "      <th>Gender</th>\n",
       "      <th>Age</th>\n",
       "      <th>Annual Income (k$)</th>\n",
       "      <th>Spending Score (1-100)</th>\n",
       "      <th>Amount</th>\n",
       "    </tr>\n",
       "  </thead>\n",
       "  <tbody>\n",
       "    <tr>\n",
       "      <th>0</th>\n",
       "      <td>31.016393</td>\n",
       "      <td>0.606557</td>\n",
       "      <td>36.918033</td>\n",
       "      <td>30.360656</td>\n",
       "      <td>49.737705</td>\n",
       "      <td>61</td>\n",
       "    </tr>\n",
       "    <tr>\n",
       "      <th>1</th>\n",
       "      <td>162.000000</td>\n",
       "      <td>0.538462</td>\n",
       "      <td>32.692308</td>\n",
       "      <td>86.538462</td>\n",
       "      <td>82.128205</td>\n",
       "      <td>39</td>\n",
       "    </tr>\n",
       "    <tr>\n",
       "      <th>2</th>\n",
       "      <td>93.531250</td>\n",
       "      <td>0.578125</td>\n",
       "      <td>43.343750</td>\n",
       "      <td>58.125000</td>\n",
       "      <td>49.359375</td>\n",
       "      <td>64</td>\n",
       "    </tr>\n",
       "    <tr>\n",
       "      <th>3</th>\n",
       "      <td>164.000000</td>\n",
       "      <td>0.472222</td>\n",
       "      <td>40.805556</td>\n",
       "      <td>87.916667</td>\n",
       "      <td>17.888889</td>\n",
       "      <td>36</td>\n",
       "    </tr>\n",
       "  </tbody>\n",
       "</table>\n",
       "</div>"
      ]
     },
     "execution_count": 12,
     "metadata": {},
     "output_type": "execute_result"
    }
   ],
   "execution_count": 12
  }
 ],
 "metadata": {
  "kernelspec": {
   "display_name": "Python 3",
   "language": "python",
   "name": "python3"
  },
  "language_info": {
   "codemirror_mode": {
    "name": "ipython",
    "version": 3
   },
   "file_extension": ".py",
   "mimetype": "text/x-python",
   "name": "python",
   "nbconvert_exporter": "python",
   "pygments_lexer": "ipython3",
   "version": "3.11.4"
  }
 },
 "nbformat": 4,
 "nbformat_minor": 2
}
