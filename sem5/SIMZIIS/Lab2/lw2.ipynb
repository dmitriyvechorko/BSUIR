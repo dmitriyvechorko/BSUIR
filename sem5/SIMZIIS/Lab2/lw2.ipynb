{
 "cells": [
  {
   "metadata": {
    "ExecuteTime": {
     "end_time": "2024-12-03T21:56:04.433449Z",
     "start_time": "2024-12-03T21:56:04.430136Z"
    }
   },
   "cell_type": "code",
   "source": "import numpy as np",
   "outputs": [],
   "execution_count": 7
  },
  {
   "metadata": {
    "ExecuteTime": {
     "end_time": "2024-12-03T21:56:04.459600Z",
     "start_time": "2024-12-03T21:56:04.454659Z"
    }
   },
   "cell_type": "code",
   "source": [
    "\n",
    "\n",
    "# Функция для шифрования текста с использованием перестановки\n",
    "def encrypt_permutation_cypher(plain_text, key):\n",
    "    # Преобразуем текст в матрицу согласно ключу\n",
    "    num_rows = len(plain_text) // key + (len(plain_text) % key != 0)\n",
    "    matrix = np.full((num_rows, key), ' ')\n",
    "    index = 0\n",
    "    for i in range(num_rows):\n",
    "        for j in range(key):\n",
    "            if index < len(plain_text):\n",
    "                matrix[i][j] = plain_text[index]\n",
    "                index += 1\n",
    "    # Шифруем текст по столбцам\n",
    "    cypher_text = ''\n",
    "    for j in range(key):\n",
    "        for i in range(num_rows):\n",
    "            cypher_text += matrix[i][j]\n",
    "    \n",
    "    return cypher_text\n",
    "   "
   ],
   "outputs": [],
   "execution_count": 8
  },
  {
   "metadata": {
    "ExecuteTime": {
     "end_time": "2024-12-03T21:56:04.476802Z",
     "start_time": "2024-12-03T21:56:04.472180Z"
    }
   },
   "cell_type": "code",
   "source": [
    " \n",
    "\n",
    "# Функция для дешифрования текста с использованием перестановки\n",
    "def decrypt_permutation_cypher(cypher_text, key):\n",
    "    num_rows = len(cypher_text) // key\n",
    "    matrix = np.full((num_rows, key), ' ')\n",
    "    index = 0\n",
    "    for j in range(key):\n",
    "        for i in range(num_rows):\n",
    "            if index < len(cypher_text):\n",
    "                matrix[i][j] = cypher_text[index]\n",
    "                index += 1\n",
    "    # Восстанавливаем исходный текст по строкам\n",
    "    plain_text = ''\n",
    "    for i in range(num_rows):\n",
    "        for j in range(key):\n",
    "            plain_text += matrix[i][j]\n",
    "    \n",
    "    return plain_text.strip()\n"
   ],
   "outputs": [],
   "execution_count": 9
  },
  {
   "metadata": {
    "ExecuteTime": {
     "end_time": "2024-12-03T21:56:04.494363Z",
     "start_time": "2024-12-03T21:56:04.490455Z"
    }
   },
   "cell_type": "code",
   "source": [
    "\n",
    "\n",
    "# Функция атаки полным перебором\n",
    "def brute_force_attack(cypher_text, original_text):\n",
    "    for key in range(2, len(cypher_text)):\n",
    "        decrypted_text = decrypt_permutation_cypher(cypher_text, key)\n",
    "        if decrypted_text == original_text:\n",
    "            print(f'Найден ключ: {key}')\n",
    "            return decrypted_text\n",
    "    return None\n",
    "\n"
   ],
   "outputs": [],
   "execution_count": 10
  },
  {
   "metadata": {
    "ExecuteTime": {
     "end_time": "2024-12-03T21:56:04.525662Z",
     "start_time": "2024-12-03T21:56:04.518962Z"
    }
   },
   "cell_type": "code",
   "source": [
    "# Пример использования программы\n",
    "plain_text = \"Какой хороший день!\"\n",
    "key = 4\n",
    "\n",
    "cypher_text = encrypt_permutation_cypher(plain_text, key)\n",
    "print(f'Зашифрованный текст: {cypher_text}')\n",
    "\n",
    "decrypted_text = decrypt_permutation_cypher(cypher_text, key)\n",
    "print(f'Дешифрованный текст: {decrypted_text}')\n",
    "\n",
    "# Атака полным перебором\n",
    "print('Атака полным перебором:')\n",
    "brute_force_attack(cypher_text, plain_text)\n",
    "\n",
    "\n"
   ],
   "outputs": [
    {
     "name": "stdout",
     "output_type": "stream",
     "text": [
      "Зашифрованный текст: Кйрйна о ькхшд!ооие \n",
      "Дешифрованный текст: Какой хороший день!\n",
      "Атака полным перебором:\n",
      "Найден ключ: 4\n"
     ]
    },
    {
     "data": {
      "text/plain": [
       "'Какой хороший день!'"
      ]
     },
     "execution_count": 11,
     "metadata": {},
     "output_type": "execute_result"
    }
   ],
   "execution_count": 11
  },
  {
   "metadata": {},
   "cell_type": "markdown",
   "source": [
    "Вариант усложнения шифра: Множественная перестановка по нескольким ключам.\n",
    "Вместо одного ключа используем два или более ключей, которые будут использоваться для перестановки строк и столбцов."
   ]
  },
  {
   "metadata": {
    "ExecuteTime": {
     "end_time": "2024-12-03T21:56:04.705756Z",
     "start_time": "2024-12-03T21:56:04.698996Z"
    }
   },
   "cell_type": "code",
   "source": [
    "def encrypt_double_permutation(plain_text, key1, key2):\n",
    "    # Преобразуем текст в матрицу согласно ключу1 (по количеству столбцов)\n",
    "    num_rows = len(plain_text) // key1 + (len(plain_text) % key1 != 0)\n",
    "    matrix = np.full((num_rows, key1), ' ')\n",
    "    index = 0\n",
    "    for i in range(num_rows):\n",
    "        for j in range(key1):\n",
    "            if index < len(plain_text):\n",
    "                matrix[i][j] = plain_text[index]\n",
    "                index += 1\n",
    "    \n",
    "    # Перестановка строк по ключу2\n",
    "    matrix = matrix[key2]\n",
    "    \n",
    "    # Зашифруем текст по столбцам\n",
    "    cipher_text = ''\n",
    "    for j in range(key1):\n",
    "        for i in range(num_rows):\n",
    "            cipher_text += matrix[i][j]\n",
    "    \n",
    "    return cipher_text\n",
    "\n",
    "# Функция для дешифрования с использованием множественной перестановки\n",
    "def decrypt_double_permutation(cipher_text, key1, key2):\n",
    "    num_rows = len(cipher_text) // key1\n",
    "    matrix = np.full((num_rows, key1), ' ')\n",
    "    index = 0\n",
    "    for j in range(key1):\n",
    "        for i in range(num_rows):\n",
    "            if index < len(cipher_text):\n",
    "                matrix[i][j] = cipher_text[index]\n",
    "                index += 1\n",
    "    \n",
    "    # Восстановление исходного порядка строк по ключу2\n",
    "    reversed_key2 = np.argsort(key2)\n",
    "    matrix = matrix[reversed_key2]\n",
    "    \n",
    "    # Восстанавливаем исходный текст по строкам\n",
    "    plain_text = ''\n",
    "    for i in range(num_rows):\n",
    "        for j in range(key1):\n",
    "            plain_text += matrix[i][j]\n",
    "    \n",
    "    return plain_text.strip()\n",
    "\n",
    "# Пример использования программы\n",
    "plain_text = \"Какой хороший день!\"\n",
    "key1 = 5  # Количество столбцов\n",
    "key2 = np.array([1, 0, 2, 3])  # Ключ перестановки строк\n",
    "\n",
    "cipher_text = encrypt_double_permutation(plain_text, key1, key2)\n",
    "print(f'Зашифрованный текст: {cipher_text}')\n",
    "\n",
    "decrypted_text = decrypt_double_permutation(cipher_text, key1, key2)\n",
    "print(f'Дешифрованный текст: {decrypted_text}')"
   ],
   "outputs": [
    {
     "name": "stdout",
     "output_type": "stream",
     "text": [
      "Зашифрованный текст:  Кшехаинокйьро !ойд \n",
      "Дешифрованный текст: Какой хороший день!\n"
     ]
    }
   ],
   "execution_count": 12
  }
 ],
 "metadata": {
  "kernelspec": {
   "display_name": "Python 3",
   "language": "python",
   "name": "python3"
  },
  "language_info": {
   "codemirror_mode": {
    "name": "ipython",
    "version": 3
   },
   "file_extension": ".py",
   "mimetype": "text/x-python",
   "name": "python",
   "nbconvert_exporter": "python",
   "pygments_lexer": "ipython3",
   "version": "3.11.4"
  },
  "orig_nbformat": 4
 },
 "nbformat": 4,
 "nbformat_minor": 2
}
