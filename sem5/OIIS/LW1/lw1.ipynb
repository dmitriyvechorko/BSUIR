{
 "cells": [
  {
   "cell_type": "code",
   "id": "initial_id",
   "metadata": {
    "collapsed": true,
    "ExecuteTime": {
     "end_time": "2024-09-11T11:26:05.617556Z",
     "start_time": "2024-09-11T11:26:05.486490Z"
    }
   },
   "source": [
    "import numpy as np\n",
    "def DFT_slow(x):\n",
    "    \"\"\"Compute the discrete Fourier Transform of the 1D array x\"\"\"\n",
    "    x = np.asarray(x, dtype=float)\n",
    "    N = x.shape[0]\n",
    "    n = np.arange(N)\n",
    "    k = n.reshape((N, 1))\n",
    "    M = np.exp(-2j * np.pi * k * n / N)\n",
    "    return np.dot(M, x)\n",
    "\n",
    "x = np.random.random(1024)\n",
    "np.allclose(DFT_slow(x), np.fft.fft(x))"
   ],
   "outputs": [
    {
     "data": {
      "text/plain": [
       "True"
      ]
     },
     "execution_count": 6,
     "metadata": {},
     "output_type": "execute_result"
    }
   ],
   "execution_count": 6
  },
  {
   "metadata": {
    "ExecuteTime": {
     "end_time": "2024-09-11T11:26:05.745995Z",
     "start_time": "2024-09-11T11:26:05.631528Z"
    }
   },
   "cell_type": "code",
   "source": [
    "x = np.random.random(1024)\n",
    "np.allclose(DFT_slow(x), np.fft.fft(x))"
   ],
   "id": "ed61b44e185254de",
   "outputs": [
    {
     "data": {
      "text/plain": [
       "True"
      ]
     },
     "execution_count": 7,
     "metadata": {},
     "output_type": "execute_result"
    }
   ],
   "execution_count": 7
  },
  {
   "metadata": {
    "ExecuteTime": {
     "end_time": "2024-09-11T11:26:05.781590Z",
     "start_time": "2024-09-11T11:26:05.774100Z"
    }
   },
   "cell_type": "code",
   "source": [
    "def FFT(x):\n",
    "    \"\"\"A recursive implementation of the 1D Cooley-Tukey FFT\"\"\"\n",
    "    x = np.asarray(x, dtype=float)\n",
    "    N = x.shape[0]\n",
    "\n",
    "    if N % 2 > 0:\n",
    "        raise ValueError(\"size of x must be a power of 2\")\n",
    "    elif N <= 32:  # this cutoff should be optimized\n",
    "        return DFT_slow(x)\n",
    "    else:\n",
    "        X_even = FFT(x[::2])\n",
    "        X_odd = FFT(x[1::2])\n",
    "        factor = np.exp(-2j * np.pi * np.arange(N) / N)\n",
    "        return np.concatenate([X_even + factor[:N / 2] * X_odd,\n",
    "                               X_even + factor[N / 2:] * X_odd])\n"
   ],
   "id": "55a0b4a8313bd7d8",
   "outputs": [],
   "execution_count": 8
  },
  {
   "metadata": {
    "ExecuteTime": {
     "end_time": "2024-09-11T11:26:05.883251Z",
     "start_time": "2024-09-11T11:26:05.809779Z"
    }
   },
   "cell_type": "code",
   "source": [
    "x = np.random.random(1024)\n",
    "np.allclose(FFT(x), np.fft.fft(x))"
   ],
   "id": "8bc835407c43a9",
   "outputs": [
    {
     "ename": "TypeError",
     "evalue": "slice indices must be integers or None or have an __index__ method",
     "output_type": "error",
     "traceback": [
      "\u001B[1;31m---------------------------------------------------------------------------\u001B[0m",
      "\u001B[1;31mTypeError\u001B[0m                                 Traceback (most recent call last)",
      "Cell \u001B[1;32mIn[9], line 2\u001B[0m\n\u001B[0;32m      1\u001B[0m x \u001B[38;5;241m=\u001B[39m np\u001B[38;5;241m.\u001B[39mrandom\u001B[38;5;241m.\u001B[39mrandom(\u001B[38;5;241m1024\u001B[39m)\n\u001B[1;32m----> 2\u001B[0m np\u001B[38;5;241m.\u001B[39mallclose(\u001B[43mFFT\u001B[49m\u001B[43m(\u001B[49m\u001B[43mx\u001B[49m\u001B[43m)\u001B[49m, np\u001B[38;5;241m.\u001B[39mfft\u001B[38;5;241m.\u001B[39mfft(x))\n",
      "Cell \u001B[1;32mIn[8], line 11\u001B[0m, in \u001B[0;36mFFT\u001B[1;34m(x)\u001B[0m\n\u001B[0;32m      9\u001B[0m     \u001B[38;5;28;01mreturn\u001B[39;00m DFT_slow(x)\n\u001B[0;32m     10\u001B[0m \u001B[38;5;28;01melse\u001B[39;00m:\n\u001B[1;32m---> 11\u001B[0m     X_even \u001B[38;5;241m=\u001B[39m \u001B[43mFFT\u001B[49m\u001B[43m(\u001B[49m\u001B[43mx\u001B[49m\u001B[43m[\u001B[49m\u001B[43m:\u001B[49m\u001B[43m:\u001B[49m\u001B[38;5;241;43m2\u001B[39;49m\u001B[43m]\u001B[49m\u001B[43m)\u001B[49m\n\u001B[0;32m     12\u001B[0m     X_odd \u001B[38;5;241m=\u001B[39m FFT(x[\u001B[38;5;241m1\u001B[39m::\u001B[38;5;241m2\u001B[39m])\n\u001B[0;32m     13\u001B[0m     factor \u001B[38;5;241m=\u001B[39m np\u001B[38;5;241m.\u001B[39mexp(\u001B[38;5;241m-\u001B[39m\u001B[38;5;241m2\u001B[39mj \u001B[38;5;241m*\u001B[39m np\u001B[38;5;241m.\u001B[39mpi \u001B[38;5;241m*\u001B[39m np\u001B[38;5;241m.\u001B[39marange(N) \u001B[38;5;241m/\u001B[39m N)\n",
      "Cell \u001B[1;32mIn[8], line 11\u001B[0m, in \u001B[0;36mFFT\u001B[1;34m(x)\u001B[0m\n\u001B[0;32m      9\u001B[0m     \u001B[38;5;28;01mreturn\u001B[39;00m DFT_slow(x)\n\u001B[0;32m     10\u001B[0m \u001B[38;5;28;01melse\u001B[39;00m:\n\u001B[1;32m---> 11\u001B[0m     X_even \u001B[38;5;241m=\u001B[39m \u001B[43mFFT\u001B[49m\u001B[43m(\u001B[49m\u001B[43mx\u001B[49m\u001B[43m[\u001B[49m\u001B[43m:\u001B[49m\u001B[43m:\u001B[49m\u001B[38;5;241;43m2\u001B[39;49m\u001B[43m]\u001B[49m\u001B[43m)\u001B[49m\n\u001B[0;32m     12\u001B[0m     X_odd \u001B[38;5;241m=\u001B[39m FFT(x[\u001B[38;5;241m1\u001B[39m::\u001B[38;5;241m2\u001B[39m])\n\u001B[0;32m     13\u001B[0m     factor \u001B[38;5;241m=\u001B[39m np\u001B[38;5;241m.\u001B[39mexp(\u001B[38;5;241m-\u001B[39m\u001B[38;5;241m2\u001B[39mj \u001B[38;5;241m*\u001B[39m np\u001B[38;5;241m.\u001B[39mpi \u001B[38;5;241m*\u001B[39m np\u001B[38;5;241m.\u001B[39marange(N) \u001B[38;5;241m/\u001B[39m N)\n",
      "    \u001B[1;31m[... skipping similar frames: FFT at line 11 (1 times)]\u001B[0m\n",
      "Cell \u001B[1;32mIn[8], line 11\u001B[0m, in \u001B[0;36mFFT\u001B[1;34m(x)\u001B[0m\n\u001B[0;32m      9\u001B[0m     \u001B[38;5;28;01mreturn\u001B[39;00m DFT_slow(x)\n\u001B[0;32m     10\u001B[0m \u001B[38;5;28;01melse\u001B[39;00m:\n\u001B[1;32m---> 11\u001B[0m     X_even \u001B[38;5;241m=\u001B[39m \u001B[43mFFT\u001B[49m\u001B[43m(\u001B[49m\u001B[43mx\u001B[49m\u001B[43m[\u001B[49m\u001B[43m:\u001B[49m\u001B[43m:\u001B[49m\u001B[38;5;241;43m2\u001B[39;49m\u001B[43m]\u001B[49m\u001B[43m)\u001B[49m\n\u001B[0;32m     12\u001B[0m     X_odd \u001B[38;5;241m=\u001B[39m FFT(x[\u001B[38;5;241m1\u001B[39m::\u001B[38;5;241m2\u001B[39m])\n\u001B[0;32m     13\u001B[0m     factor \u001B[38;5;241m=\u001B[39m np\u001B[38;5;241m.\u001B[39mexp(\u001B[38;5;241m-\u001B[39m\u001B[38;5;241m2\u001B[39mj \u001B[38;5;241m*\u001B[39m np\u001B[38;5;241m.\u001B[39mpi \u001B[38;5;241m*\u001B[39m np\u001B[38;5;241m.\u001B[39marange(N) \u001B[38;5;241m/\u001B[39m N)\n",
      "Cell \u001B[1;32mIn[8], line 14\u001B[0m, in \u001B[0;36mFFT\u001B[1;34m(x)\u001B[0m\n\u001B[0;32m     12\u001B[0m X_odd \u001B[38;5;241m=\u001B[39m FFT(x[\u001B[38;5;241m1\u001B[39m::\u001B[38;5;241m2\u001B[39m])\n\u001B[0;32m     13\u001B[0m factor \u001B[38;5;241m=\u001B[39m np\u001B[38;5;241m.\u001B[39mexp(\u001B[38;5;241m-\u001B[39m\u001B[38;5;241m2\u001B[39mj \u001B[38;5;241m*\u001B[39m np\u001B[38;5;241m.\u001B[39mpi \u001B[38;5;241m*\u001B[39m np\u001B[38;5;241m.\u001B[39marange(N) \u001B[38;5;241m/\u001B[39m N)\n\u001B[1;32m---> 14\u001B[0m \u001B[38;5;28;01mreturn\u001B[39;00m np\u001B[38;5;241m.\u001B[39mconcatenate([X_even \u001B[38;5;241m+\u001B[39m \u001B[43mfactor\u001B[49m\u001B[43m[\u001B[49m\u001B[43m:\u001B[49m\u001B[43mN\u001B[49m\u001B[43m \u001B[49m\u001B[38;5;241;43m/\u001B[39;49m\u001B[43m \u001B[49m\u001B[38;5;241;43m2\u001B[39;49m\u001B[43m]\u001B[49m \u001B[38;5;241m*\u001B[39m X_odd,\n\u001B[0;32m     15\u001B[0m                        X_even \u001B[38;5;241m+\u001B[39m factor[N \u001B[38;5;241m/\u001B[39m \u001B[38;5;241m2\u001B[39m:] \u001B[38;5;241m*\u001B[39m X_odd])\n",
      "\u001B[1;31mTypeError\u001B[0m: slice indices must be integers or None or have an __index__ method"
     ]
    }
   ],
   "execution_count": 9
  },
  {
   "metadata": {},
   "cell_type": "code",
   "outputs": [],
   "execution_count": null,
   "source": [
    "def FFT_vectorized(x):\n",
    "    \"\"\"A vectorized, non-recursive version of the Cooley-Tukey FFT\"\"\"\n",
    "    x = np.asarray(x, dtype=float)\n",
    "    N = x.shape[0]\n",
    "\n",
    "    if np.log2(N) % 1 > 0:\n",
    "        raise ValueError(\"size of x must be a power of 2\")\n",
    "\n",
    "    # N_min here is equivalent to the stopping condition above,\n",
    "    # and should be a power of 2\n",
    "    N_min = min(N, 32)\n",
    "    \n",
    "    # Perform an O[N^2] DFT on all length-N_min sub-problems at once\n",
    "    n = np.arange(N_min)\n",
    "    k = n[:, None]\n",
    "    M = np.exp(-2j * np.pi * n * k / N_min)\n",
    "    X = np.dot(M, x.reshape((N_min, -1)))\n",
    "\n",
    "    # build-up each level of the recursive calculation all at once\n",
    "    while X.shape[0] < N:\n",
    "        X_even = X[:, :X.shape[1] / 2]\n",
    "        X_odd = X[:, X.shape[1] / 2:]\n",
    "        factor = np.exp(-1j * np.pi * np.arange(X.shape[0])\n",
    "                        / X.shape[0])[:, None]\n",
    "        X = np.vstack([X_even + factor * X_odd,\n",
    "                       X_even - factor * X_odd])\n",
    "\n",
    "    return X.ravel()"
   ],
   "id": "cf6bbf9052e00adc"
  },
  {
   "metadata": {
    "ExecuteTime": {
     "end_time": "2024-09-11T11:26:10.528809Z",
     "start_time": "2024-09-11T11:26:10.508260Z"
    }
   },
   "cell_type": "code",
   "source": [
    "x = np.random.random(1024)\n",
    "np.allclose(FFT_vectorized(x), np.fft.fft(x))"
   ],
   "id": "113e928431ee3350",
   "outputs": [
    {
     "ename": "NameError",
     "evalue": "name 'FFT_vectorized' is not defined",
     "output_type": "error",
     "traceback": [
      "\u001B[1;31m---------------------------------------------------------------------------\u001B[0m",
      "\u001B[1;31mNameError\u001B[0m                                 Traceback (most recent call last)",
      "Cell \u001B[1;32mIn[10], line 2\u001B[0m\n\u001B[0;32m      1\u001B[0m x \u001B[38;5;241m=\u001B[39m np\u001B[38;5;241m.\u001B[39mrandom\u001B[38;5;241m.\u001B[39mrandom(\u001B[38;5;241m1024\u001B[39m)\n\u001B[1;32m----> 2\u001B[0m np\u001B[38;5;241m.\u001B[39mallclose(\u001B[43mFFT_vectorized\u001B[49m(x), np\u001B[38;5;241m.\u001B[39mfft\u001B[38;5;241m.\u001B[39mfft(x))\n",
      "\u001B[1;31mNameError\u001B[0m: name 'FFT_vectorized' is not defined"
     ]
    }
   ],
   "execution_count": 10
  }
 ],
 "metadata": {
  "kernelspec": {
   "display_name": "Python 3",
   "language": "python",
   "name": "python3"
  },
  "language_info": {
   "codemirror_mode": {
    "name": "ipython",
    "version": 2
   },
   "file_extension": ".py",
   "mimetype": "text/x-python",
   "name": "python",
   "nbconvert_exporter": "python",
   "pygments_lexer": "ipython2",
   "version": "2.7.6"
  }
 },
 "nbformat": 4,
 "nbformat_minor": 5
}
